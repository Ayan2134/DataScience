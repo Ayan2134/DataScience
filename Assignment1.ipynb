{
 "cells": [
  {
   "cell_type": "code",
   "execution_count": 1,
   "metadata": {},
   "outputs": [],
   "source": [
    "import pandas as pd"
   ]
  },
  {
   "cell_type": "code",
   "execution_count": 2,
   "metadata": {},
   "outputs": [],
   "source": [
    "pop_data=pd.read_csv('./NDAP_REPORT_6000.csv')"
   ]
  },
  {
   "cell_type": "code",
   "execution_count": 3,
   "metadata": {},
   "outputs": [
    {
     "data": {
      "text/plain": [
       "Index(['ROWID', 'Country', 'State lgd code', 'State', 'District lgd code',\n",
       "       'District', 'Sub-District lgd Code', 'Sub-District',\n",
       "       'ULB_RLB_Village lgd Code', 'ULB_RLB_Village', 'Rural or Urban',\n",
       "       'Households', 'Population', 'Male population', 'Female population',\n",
       "       'Population in the age group 0 to 6 years',\n",
       "       'Male Population in the age group 0 to 6 years',\n",
       "       'Female Population in the age group 0 to 6 years',\n",
       "       'Scheduled Caste population', 'Male Scheduled Caste population',\n",
       "       'Female Scheduled Caste population ', 'Scheduled Tribe population',\n",
       "       'Male Scheduled Tribe population', 'Female Scheduled Tribe population ',\n",
       "       'Literate population ', 'Male literate population',\n",
       "       'Female literate population ', 'Illiterate population',\n",
       "       'Male illiterate population ', 'Female illiterate population ',\n",
       "       'Working population', 'Male working population',\n",
       "       'Female Woking population', 'Number of main workers',\n",
       "       'Number of male main workers', 'Number of female main worker',\n",
       "       'Number of main workers as cultivators',\n",
       "       'Number of male main workers as cultivators',\n",
       "       'Number of female main workers as cultivators',\n",
       "       'Number of main workers as agricultural labourers',\n",
       "       'Number of male main workers as agricultural labourers',\n",
       "       'Number of female main workers as agricultural labourers',\n",
       "       'Number of main workers in the household industry',\n",
       "       'Number of male main workers in the household industry',\n",
       "       'Number of female main workers in the household industry',\n",
       "       'Number of  main workers as Other workers',\n",
       "       'Number of male main workers as Other workers',\n",
       "       'Number of female main workers as Other workers',\n",
       "       'Number of marginal workers', 'Number of male marginal workers',\n",
       "       'Number of female marginal workers',\n",
       "       'Number of marginal workers as cultivators',\n",
       "       'Number of male marginal workers as cultivators',\n",
       "       'Number of female marginal workers as cultivators',\n",
       "       'Number of marginal workers as agricultural labourers',\n",
       "       'Number of male marginal workers as agricultural labourers',\n",
       "       'Number of female marginal workers as agricultural labourers',\n",
       "       'Number of marginal workers in the household industry',\n",
       "       'Number of male marginal workers in the household industry',\n",
       "       'Number of female marginal workers in the household industry',\n",
       "       'Number of marginal workers as Other workers',\n",
       "       'Number of male marginal workers as Other workers',\n",
       "       'Number of female marginal workers as Other workers',\n",
       "       'Number of marginal workers  who worked for 3 to 6 months',\n",
       "       'Number of male marginal workers  who worked for  3 to 6 months',\n",
       "       'Number of female marginal workers who worked for  3 to 6 months',\n",
       "       'Total Number of marginal workers as cultivators who worked for 3 to 6 months',\n",
       "       'Number of male marginal workers as cultivators who worked for 3 to 6 months',\n",
       "       'Number of female marginal workers as cultivators who worked for 3 to 6 months',\n",
       "       'Number of marginal workers as agricultural labour who worked for 3 to 6 months',\n",
       "       'Number of male marginal workers as agricultural labour who worked for 3 to 6 months',\n",
       "       'Number of female marginal workers as agricultural labour who worked for 3 to 6 months',\n",
       "       'Number of  marginal workers in household industry who worked for 3 to 6 months',\n",
       "       'Number of male marginal workers in household industry who worked for 3 to 6 months',\n",
       "       'Number of female marginal workers in household industry who  worked for 3 to 6 months',\n",
       "       'Number of marginal workers as Other workers who worked for 3 to 6 months',\n",
       "       'Number of male marginal workers as Other workers who worked for 3 to 6 months',\n",
       "       'Number of female marginal workers as Other workers who worked for 3 to 6 months',\n",
       "       'Number of marginal workers  who worked for 0 to 3 months',\n",
       "       'Number of male marginal workers  who worked for 0 to 3 months',\n",
       "       'Number of female marginal workers  who worked for 0 to 3 months',\n",
       "       'Number of marginal workers as cultivators who worked for 0 to 3 months',\n",
       "       'Number of male marginal workers as cultivators who worked for 0 to 3 months',\n",
       "       'Number of female marginal workers as cultivators who worked for 0 to 3 months',\n",
       "       'Total nuumber of marginal workers as agricultural labour who worked for 0 to 3 months',\n",
       "       'Number of male marginal workers in agricultural labour who  worked for 0 to 3 months',\n",
       "       'Number of female marginal workers as agricultural labour who worked for 0 to 3 months',\n",
       "       'Number of marginal workers in household industry who worked for 0 to 3 months',\n",
       "       'Number of male marginal workers in household industry who  worked for 0 to 3 months',\n",
       "       'Number of female marginal workers in household industry who  worked for 0 to 3 months',\n",
       "       'Number of marginal workers as Other workers who worked for 0 to 3 months',\n",
       "       'Number of male marginal workers as Other workers who worked for 0 to 3 months',\n",
       "       'Number of female marginal workers as Other workers who worked for 0 to 3 months',\n",
       "       'Number of Non workers', 'Number of male Non workers',\n",
       "       'Number of female Non workers', 'Source Year', 'YearCode', 'Year'],\n",
       "      dtype='object')"
      ]
     },
     "execution_count": 3,
     "metadata": {},
     "output_type": "execute_result"
    }
   ],
   "source": [
    "pop_data.columns"
   ]
  },
  {
   "cell_type": "code",
   "execution_count": 4,
   "metadata": {},
   "outputs": [
    {
     "name": "stdout",
     "output_type": "stream",
     "text": [
      "['GUJARAT', 'ODISHA', 'UTTARAKHAND', 'JAMMU AND KASHMIR', 'JHARKHAND', 'MAHARASHTRA', 'MADHYA PRADESH', 'MANIPUR', 'HIMACHAL PRADESH', 'ARUNACHAL PRADESH', 'UTTAR PRADESH', 'WEST BENGAL', 'ASSAM', 'CHHATTISGARH', 'SIKKIM', 'ANDHRA PRADESH', 'TAMIL NADU', 'MIZORAM', 'TELANGANA', 'DELHI', 'KARNATAKA', 'CHANDIGARH', 'KERALA', 'PUNJAB', 'NAGALAND', 'GOA', 'TRIPURA', 'RAJASTHAN', 'HARYANA', 'BIHAR', 'MEGHALAYA', 'LADAKH', 'PUDUCHERRY', 'THE DADRA AND NAGAR HAVELI AND DAMAN AND DIU', 'ANDAMAN AND NICOBAR ISLANDS', 'LAKSHADWEEP']\n"
     ]
    }
   ],
   "source": [
    "list_of_states=pop_data['State'].drop_duplicates()\n",
    "print(list(list_of_states))"
   ]
  },
  {
   "cell_type": "code",
   "execution_count": 5,
   "metadata": {},
   "outputs": [],
   "source": [
    "def state_literacy_rate(population,literate_pop) :\n",
    "    literacy = {}\n",
    "    for state in list_of_states :\n",
    "        bool_data=(pop_data.State == state)\n",
    "        pop=pop_data[bool_data][population].sum()\n",
    "        lil_pop=pop_data[bool_data][literate_pop].sum()\n",
    "        literacy_rate=(lil_pop/pop)*100\n",
    "        literacy[state]=literacy_rate\n",
    "    return literacy"
   ]
  },
  {
   "cell_type": "code",
   "execution_count": 6,
   "metadata": {},
   "outputs": [
    {
     "name": "stdout",
     "output_type": "stream",
     "text": [
      "Max Male Literacy is in :\n",
      "State : KERALA\n",
      "85.50914520697415\n"
     ]
    }
   ],
   "source": [
    "male_literacy=state_literacy_rate('Male population','Male literate population')\n",
    "max_male_lit=max(male_literacy , key=lambda key : male_literacy[key])\n",
    "print(\"Max Male Literacy is in :\")\n",
    "print(\"State :\",max_male_lit)\n",
    "print(male_literacy[max_male_lit])"
   ]
  },
  {
   "cell_type": "code",
   "execution_count": 7,
   "metadata": {},
   "outputs": [
    {
     "name": "stdout",
     "output_type": "stream",
     "text": [
      "Max Female Literacy is in :\n",
      "State : KERALA\n",
      "83.03822121040594\n"
     ]
    }
   ],
   "source": [
    "female_literacy=state_literacy_rate('Female population','Female literate population ')\n",
    "max_female_lit=max(female_literacy , key=lambda key : female_literacy[key])\n",
    "print(\"Max Female Literacy is in :\")\n",
    "print(\"State :\",max_female_lit)\n",
    "print(female_literacy[max_female_lit])"
   ]
  },
  {
   "cell_type": "code",
   "execution_count": 8,
   "metadata": {},
   "outputs": [
    {
     "name": "stdout",
     "output_type": "stream",
     "text": [
      "Max Literacy is in :\n",
      "State : KERALA\n",
      "84.2237101824127\n"
     ]
    }
   ],
   "source": [
    "total_literacy=state_literacy_rate('Population','Literate population ')\n",
    "max_lit=max(total_literacy , key = lambda key : total_literacy[key])\n",
    "print(\"Max Literacy is in :\")\n",
    "print(\"State :\",max_lit)\n",
    "print(total_literacy[max_lit])"
   ]
  },
  {
   "cell_type": "code",
   "execution_count": 9,
   "metadata": {},
   "outputs": [
    {
     "name": "stdout",
     "output_type": "stream",
     "text": [
      "['BHARUCH', 'SURAT', 'CUTTACK', 'RUDRA PRAYAG', 'BARAMULLA', 'UTTAR KASHI', 'GIRIDIH', 'HARIDWAR', 'DHANBAD', 'ANAND', 'CHAMOLI', 'SATARA', 'EAST NIMAR', 'VADODARA', 'PANCH MAHALS', 'JAMNAGAR', 'AKOLA', 'GANDHINAGAR', 'JAMMU', 'KHARGONE', 'JABALPUR', 'PAURI GARHWAL', 'BHANDARA', 'RAJKOT', 'RAIGAD', 'IMPHAL EAST', 'REASI', 'SHIMLA', 'TEHRI GARHWAL', 'IMPHAL WEST', 'ANJAW', 'PUNE', 'VALSAD', 'SOLAN', 'GAUTAM BUDDHA NAGAR', '24 PARAGANAS NORTH', 'ALMORA', 'UDHAMPUR', 'NAGAON', 'BILASPUR', 'JHANSI', 'WEST DISTRICT', 'Y.S.R.', 'PAPUM PARE', 'NAINITAL', 'KULLU', 'CHAMBA', 'ERODE', 'KHAWZAWL', 'ANANTNAG', 'HAMIRPUR', 'MANDI', 'SERCHHIP', 'MANCHERIAL', 'Unknown Districts Of India', 'DIBANG VALLEY', 'AGRA', 'TENKASI', 'GHAZIPUR', 'TINSUKIA', 'DIMA HASAO', 'KURUNG KUMEY', 'BHAVNAGAR', 'Budgam', 'CHIKKAMAGALURU', 'CHANDIGARH', 'KHORDHA', 'SUNDARGARH', 'Hnahthial', 'NEW DELHI', 'DEHRADUN', 'AURANGABAD', 'MAMIT', 'SRINAGAR', 'KATHUA', 'KANNUR', 'BEMETARA', 'THENI', 'BATHINDA', 'PEREN', 'SIANG', 'SIRMAUR', 'THOUBAL', 'TUTICORIN', 'TIRUPPUR', 'KOLHAPUR', 'AIZAWL', 'SURAJPUR', 'RAMBAN', 'BALOD', 'JANJGIR-CHAMPA', 'WEST KAMENG', 'KANGRA', 'DURG', 'RAJNANDGAON', 'KANKER', 'NAMAKKAL', 'THE NILGIRIS', 'UNA', 'SONBHADRA', 'KABIRDHAM', 'LUNGLEI', 'UPPER SIANG', 'KOLASIB', 'CHENNAI', 'THANJAVUR', 'KAKCHING', 'KAMRUP METRO', 'NORTH DISTRICT', 'TIRUVANNAMALAI', 'RAIGARH', 'LONGDING', 'DANG', 'BIJAPUR', 'KONDAGAON', 'VISAKHAPATANAM', 'COIMBATORE', 'Biswanath', 'DHAMTARI', 'BALRAMPUR', 'KULGAM', 'NEEMUCH', 'RATLAM', 'MATHURA', 'HOSHIARPUR', 'TIRUCHIRAPPALLI', 'KARUR', 'SALEM', 'AGAR MALWA', 'KAMRUP', 'VIRUDHUNAGAR', 'RAJOURI', 'CHAMPAWAT', 'TAWANG', 'MAU', 'MANDSAUR', 'NORTH GOA', 'AMRAVATI', 'BALODA BAZAR', 'Kasganj', 'Dhalai', 'AMRITSAR', 'MUNGELI', 'MON', 'PALGHAR', 'LAKHIMPUR', 'SUKMA', 'NASHIK', 'KALABURAGI', 'KOHIMA', 'PITHORAGARH', 'SIVAGANGA', 'MOKOKCHUNG', 'UDAM SINGH NAGAR', 'DANTEWADA', 'KODAGU', 'CHARAIDEO', 'KARBI ANGLONG', 'HAPUR', 'BISHNUPUR', 'EAST DISTRICT', 'BUDAUN', 'Niwari', 'THIRUVARUR', 'HARDOI', 'GARIYABAND', 'KOREA', 'PALAMU', 'KORBA', 'VILLUPURAM', 'DINDIGUL', 'JASHPUR', 'MADURAI', 'SATNA', 'MAHASAMUND', 'BAGESHWAR', 'CHANGLANG', 'RAJGARH', 'LOWER DIBANG VALLEY', 'HASSAN', 'SURGUJA', 'UNNAO', 'LONGLENG', 'CUDDALORE', 'DAKSHINA KANNADA', 'SOUTH GOA', 'TIRUNELVELI', 'ALIGARH', 'MAINPURI', 'SHIVAMOGGA', 'FATEHPUR', 'GADCHIROLI', 'SAMBA', 'NAGPUR', 'RAIPUR', 'MANDLA', 'BANDA', 'POONCH', 'PULWAMA', 'GANJAM', 'CHHINDWARA', 'PILIBHIT', 'GURDASPUR', 'NAMSAI', 'JIRIBAM', 'YADGIR', 'SEHORE', 'DHAR', 'PERAMBALUR', 'RAE BARELI', 'DIMAPUR', 'KANNIYAKUMARI', 'RAYAGADA', 'HATHRAS', 'VELLORE', 'KANPUR DEHAT', 'PATIALA', 'DEORIA', 'MOGA', 'BUNDI', 'AHMADABAD', 'INDORE', 'LUCKNOW', 'TIKAMGARH', 'Ariyalur', 'ANUPPUR', 'PANNA', 'South Tripura', 'LALITPUR', 'GOLAGHAT', 'Ranipet', 'AZAMGARH', 'LUDHIANA', 'FIROZABAD', 'CHHATARPUR', 'KRISHNAGIRI', 'PHEK', 'JALANDHAR', 'GAJAPATI', 'PUDUKKOTTAI', 'BARPETA', 'KATNI', 'SOUTH WEST', 'DHARMAPURI', 'SHAHDOL', 'JALAUN', 'Mayiladuthurai', 'JORHAT', 'DEWAS', 'SIVASAGAR', 'GORAKHPUR', 'PRATAPGARH', 'NAGAPATTINAM', 'KALLAKURICHI', 'CHAMARAJANAGARA', 'ERNAKULAM', 'MAHENDRAGARH', 'THIRUVALLUR', 'UJJAIN', 'SULTANPUR', 'RAISEN', 'BAREILLY', 'SONEPUR', 'ETAH', 'VARANASI', 'Amethi', 'DATIA', 'KAPURTHALA', 'KAUSHAMBI', 'GONDA', 'CHIKKABALLAPURA', 'SOUTH DISTRICT', 'REWA', 'Tirupathur', 'RAMANATHAPURAM', 'SRI MUKTSAR SAHIB', 'BETUL', 'AURAIYA', 'KOKRAJHAR', 'BASTAR', 'DIBRUGARH', 'BELAGAVI', 'COOCHBEHAR', 'BASTI', 'GHAZIABAD', 'BARWANI', 'ALIRAJPUR', 'SIDHI', 'AYODHYA', 'NAYAGARH', 'GWALIOR', 'BARABANKI', 'HANUMANGARH', 'SHAJAPUR', 'BULANDSHAHR', 'GONDIA', 'SIDDHARTH NAGAR', 'BHIND', 'GANGANAGAR', 'VAISHALI', 'MYSURU', 'KANNAUJ', 'CACHAR', 'CHENGALPATTU', 'RATNAGIRI', 'VIDISHA', 'FATEHGARH SAHIB', 'SHAMLI', 'HOSHANGABAD', 'DINDORI', 'EAST KHASI HILLS', 'MORENA', 'SAMBHAL', 'AHMEDNAGAR', 'ANUGUL', 'BANSWARA', 'FEROZEPUR', 'JHABUA', 'SOLAPUR', 'DARJEELING', 'SEONI', 'BANDIPORA', 'LOWER SUBANSIRI', 'MAHARAJGANJ', 'MEERUT', 'DODA', 'FARRUKHABAD', 'WARDHA', 'KANPUR NAGAR', 'West Tripura', 'MEDCHAL MALKAJGIRI', 'Gomati', 'JAUNPUR', 'MALKANGIRI', 'Sepahijala', 'NANDED', 'KOPPAL', 'BALAGHAT', 'ETAWAH', 'KANCHIPURAM', 'DHEMAJI', 'SITAPUR', 'PRAYAGRAJ', 'JAIPUR', 'KARGIL', 'KANDHAMAL', 'SANGRUR', 'WEST KHASI HILLS', 'UDAIPUR', 'BAGHPAT', 'SAHARANPUR', 'SAHEBGANJ', 'SANT KABEER NAGAR', 'MAYURBHANJ', 'NARSINGHPUR', 'DAMOH', 'KRISHNA', 'MADHUBANI', 'SINDHUDURG', 'BULDHANA', 'PALWAL', 'BARNALA', 'SHAHJAHANPUR', 'KHERI', 'LEPARADA', 'TONK', 'MEDINIPUR WEST', 'KUSHI NAGAR', 'UDUPI', 'BHILWARA', 'UTTARA KANNADA', 'CHURU', 'Tarn Taran', 'HAILAKANDI', 'KUPWARA', 'CHATRA', 'SOUTH GARO HILLS', 'ASHOKNAGAR', 'GADAG', 'PARBHANI', 'BHADOHI', 'CHITTORGARH', 'MUZAFFARNAGAR', 'JHUNJHUNU', 'CHITRAKOOT', 'JHALAWAR', 'BURHANPUR', 'Unakoti', 'AMBEDKAR NAGAR', 'MAHOBA', 'SAMBALPUR', 'TENGNOUPAL', 'GURUGRAM', 'RUPNAGAR', 'HOJAI', 'Gaurella Pendra Marwahi', 'BHIWANI', 'SHOPIAN', 'BAHRAICH', 'TUMAKURU', 'CHIRANG', 'KISHTWAR', 'RAICHUR', 'SAGAR', 'PALI', 'KARIMGANJ', 'SARAIKELA KHARSAWAN', 'SHIVPURI', 'SITAMARHI', 'JUNAGADH', 'NUAPADA', 'KIPHIRE', 'HISAR', 'UMARIA', 'CHITRADURGA', 'TAMENGLONG', 'LEH LADAKH', 'KORAPUT', 'NAGAUR', 'DUMKA', 'UDALGURI', 'RI BHOI', 'MIRZAPUR', 'GOALPARA', 'JHAJJAR', 'GARHWA', 'DHARWAD', 'SHEOPUR', 'ARVALLI', 'SABAR KANTHA', 'SHRAVASTI', 'PATNA', 'PATAN', 'Shahid Bhagat Singh Nagar', 'EAST SINGHBUM', 'NAVSARI', 'DHENKANAL', 'MORADABAD', 'RAJSAMAND', 'PURI', 'KHEDA', 'BALESHWAR', 'BHOJPUR', 'BHARATPUR', 'MORBI', 'REWARI', 'BONGAIGAON', 'BAGALKOTE', 'MANSA', 'EAST KAMENG', 'DAVANGERE', 'KARNAL', 'OSMANABAD', 'AMRELI', 'KRA DAADI', 'JIND', 'NUH', 'SURENDRANAGAR', 'BOTAD', 'PURBI CHAMPARAN', 'ALWAR', 'PORBANDAR', 'KISHANGANJ', 'NADIA', 'AJMER', 'BEED', 'BANAS KANTHA', 'CHANDAULI', 'EAST SIANG', 'BARGARH', 'MANDYA', 'THANE', 'RAMPUR', 'NORTH GARO HILLS', 'KOTA', 'ROHTAS', 'BALLARI', 'KAITHAL', 'BIDAR', 'DARRANG', 'KALAHANDI', 'Khowai', 'S.A.S Nagar', 'KARAULI', 'YAVATMAL', 'DHULE', 'SONITPUR', 'NARAYANPUR', 'PONDICHERRY', 'LAWNGTLAI', 'HAVERI', 'BOUDH', 'Mahisagar', 'BIKANER', 'AMROHA', 'SUPAUL', 'ZUNHEBOTO', 'WEST KARBI ANGLONG', 'BIJNOR', 'BARAN', 'ROHTAK', 'GUNA', 'RANCHI', 'JALGAON', 'PURULIA', 'SIROHI', 'BALLIA', 'MAHESANA', 'DOHAD', 'DEOGARH', 'KOTTAYAM', 'BALANGIR', 'GOPALGANJ', 'GIR SOMNATH', 'DEVBHUMI DWARKA', 'THRISSUR', 'GAYA', 'SIRSA', 'JAISALMER', 'GANDERBAL', 'SAIHA', 'NALANDA', 'AMBALA', 'CHANDRAPUR', 'HARDA', 'SAMASTIPUR', 'MUZAFFARPUR', 'NANDURBAR', 'WEST JAINTIA HILLS', 'JALPAIGURI', 'SONIPAT', 'EAST GARO HILLS', 'JALNA', 'KODERMA', 'HINGOLI', 'SIKAR', 'CHAMPHAI', 'SIWAN', 'PURBA BARDHAMAN', 'ALAPPUZHA', 'TAPI', 'BHADRAK', 'RAMANAGARA', 'BHAGALPUR', '24 PARAGANAS SOUTH', 'KOLAR', 'BENGALURU RURAL', 'DHOLPUR', 'DIU', 'LATEHAR', 'BAKSA', 'NABARANGPUR', 'NAWADA', 'CHHOTAUDEPUR', 'PASHCHIM CHAMPARAN', 'KATIHAR', 'BANKURA', 'NALBARI', 'KURUKSHETRA', 'SHEOHAR', 'HOOGHLY', 'VIJAYAPURA', 'PATHANKOT', 'MADHEPURA', 'MARIGAON', 'DUNGARPUR', 'WOKHA', 'MURSHIDABAD', 'TUENSANG', 'BHADRADRI KOTHAGUDEM', 'BHOPAL', 'KACHCHH', 'PALAKKAD', 'WAYANAD', 'WASHIM', 'KHAMMAM', 'PURNIA', 'JAMTARA', 'MUNGER', 'PANCHKULA', 'SARAN', 'JEHANABAD', 'MEDINIPUR EAST', 'JALORE', 'SANGLI', 'PATHANAMTHITTA', 'MALERKOTLA', 'NIZAMABAD', 'DAUSA', 'JAGATSINGHAPUR', 'JODHPUR', 'LATUR', 'SRIKAKULAM', 'Narayanpet', 'NARMADA', 'KHUNTI', 'Jagitial', 'JAMUI', 'BIRBHUM', 'KENDRAPARA', 'FARIDKOT', 'DINAJPUR UTTAR', 'ARARIA', 'FATEHABAD', 'FAZILKA', 'JHARSUGUDA', 'KHAGARIA', 'PANIPAT', 'JAJAPUR', 'THIRUVANANTHAPURAM', 'BEGUSARAI', 'BENGALURU URBAN', 'WEST GODAVARI', 'KENDUJHAR', 'SIMDEGA', 'Nirmal', 'SANGAREDDY', 'KOLLAM', 'North Tripura', 'LAKHISARAI', 'DAMAN', 'MEDAK', 'PAKUR', 'EAST GODAVARI', 'SHEIKHPURA', 'GUNTUR', 'BANKA', 'MAHE', 'VIZIANAGARAM', 'CHITTOOR', 'JANGOAN', 'SPSR NELLORE', 'GODDA', 'YADADRI BHUVANAGIRI', 'JOGULAMBA GADWAL', 'RAJANNA SIRCILLA', 'VIKARABAD', 'HYDERABAD', 'GUMLA', 'KAIMUR (BHABUA)', 'ARWAL', 'IDUKKI', 'BUXAR', 'WANAPARTHY', 'DINAJPUR DAKSHIN', 'ANANTAPUR', 'PRAKASAM', 'MALAPPURAM', 'KASARAGOD', 'KURNOOL', 'CHARKI DADRI', 'LOHARDAGA', 'DEOGHAR', 'WEST SINGHBHUM', 'KUMURAM BHEEM ASIFABAD', 'SIDDIPET', 'YANAM', 'DHUBRI', 'Alipurduar', 'NORTH', 'WEST GARO HILLS', 'DARBHANGA', 'KAMAREDDY', 'MALDAH', 'BARMER', 'KOZHIKODE', 'DADRA AND NAGAR HAVELI', 'RAMGARH', 'KARAIKAL', 'BOKARO', 'SOUTH ANDAMANS', 'NALGONDA', 'SURYAPET', 'ADILABAD', 'RANGA REDDY', 'SAWAI MADHOPUR', 'YAMUNANAGAR', 'CENTRAL', 'HAZARIBAGH', 'MAHABUBNAGAR', 'SAHARSA', 'SINGRAULI', 'HOWRAH', 'PEDDAPALLI', 'NORTH WEST', 'KARIMNAGAR', 'WARANGAL', 'WEST', 'HANUMAKONDA', 'PASCHIM BARDHAMAN', 'FARIDABAD', 'MUMBAI', 'KOLKATA', 'KINNAUR', 'LAHUL AND SPITI', 'UPPER SUBANSIRI', 'KAMLE', 'LOWER SIANG', 'PAKKE KESSANG', 'SHI YOMI', 'CHANDEL', 'CHURACHANDPUR', 'SENAPATI', 'UKHRUL', 'KANGPOKPI', 'KAMJONG', 'SAITUAL', 'EAST JAINTIA HILLS', 'SOUTH WEST GARO HILLS', 'MAJULI', 'SOUTH SALMARA MANCACHAR', 'Jhargram', 'NICOBARS', 'JAYASHANKAR BHUPALAPALLY', 'MAHABUBABAD', 'NAGARKURNOOL', 'Mulugu', 'LOHIT', 'TIRAP', 'Noklak', 'SOUTH WEST KHASI HILLS', 'NORTH AND MIDDLE ANDAMAN', 'PHERZAWL', 'NONEY', 'KALIMPONG', 'WEST SIANG', 'NORTH EAST', 'SOUTH', 'EAST', 'LAKSHADWEEP DISTRICT', 'SHAHDARA', 'South East']\n"
     ]
    }
   ],
   "source": [
    "list_of_districts=list(pop_data['District'].drop_duplicates())\n",
    "print(list_of_districts)"
   ]
  },
  {
   "cell_type": "code",
   "execution_count": 10,
   "metadata": {},
   "outputs": [],
   "source": [
    "def district_literacy_rate(population,literate_pop) :\n",
    "    literacy = {}\n",
    "    for district in list_of_districts :\n",
    "        bool_data=(pop_data.District == district)\n",
    "        pop=pop_data[bool_data][population].sum()\n",
    "        lil_pop=pop_data[bool_data][literate_pop].sum()\n",
    "        literacy_rate=(lil_pop/pop)*100\n",
    "        literacy[district]=literacy_rate\n",
    "    return literacy"
   ]
  },
  {
   "cell_type": "code",
   "execution_count": 11,
   "metadata": {},
   "outputs": [
    {
     "name": "stdout",
     "output_type": "stream",
     "text": [
      "Max Male Literacy is in :\n",
      "District : KOTTAYAM\n",
      "88.98087244613954\n"
     ]
    }
   ],
   "source": [
    "dist_male_literacy=district_literacy_rate('Male population','Male literate population')\n",
    "dist_max_male_lit=max(dist_male_literacy , key=lambda key : dist_male_literacy[key])\n",
    "print(\"Max Male Literacy is in :\")\n",
    "print(\"District :\",dist_max_male_lit)\n",
    "print(dist_male_literacy[dist_max_male_lit])"
   ]
  },
  {
   "cell_type": "code",
   "execution_count": 12,
   "metadata": {},
   "outputs": [
    {
     "name": "stdout",
     "output_type": "stream",
     "text": [
      "Max Female Literacy is in :\n",
      "District : PATHANAMTHITTA\n",
      "88.62286375877778\n"
     ]
    }
   ],
   "source": [
    "dist_female_literacy=district_literacy_rate('Female population','Female literate population ')\n",
    "dist_max_female_lit=max(dist_female_literacy , key=lambda key : dist_female_literacy[key])\n",
    "print(\"Max Female Literacy is in :\")\n",
    "print(\"District :\",dist_max_female_lit)\n",
    "print(dist_female_literacy[dist_max_female_lit])"
   ]
  },
  {
   "cell_type": "code",
   "execution_count": 13,
   "metadata": {},
   "outputs": [
    {
     "name": "stdout",
     "output_type": "stream",
     "text": [
      "Max Literacy is in :\n",
      "District : PATHANAMTHITTA\n",
      "88.73746045638427\n"
     ]
    }
   ],
   "source": [
    "dist_total_literacy=district_literacy_rate('Population','Literate population ')\n",
    "dist_max_lit=max(dist_total_literacy , key = lambda key : dist_total_literacy[key])\n",
    "print(\"Max Literacy is in :\")\n",
    "print(\"District :\",dist_max_lit)\n",
    "print(dist_total_literacy[dist_max_lit])"
   ]
  },
  {
   "attachments": {},
   "cell_type": "markdown",
   "metadata": {},
   "source": [
    "# Fastest Method :"
   ]
  },
  {
   "cell_type": "code",
   "execution_count": 66,
   "metadata": {},
   "outputs": [
    {
     "name": "stdout",
     "output_type": "stream",
     "text": [
      "District\n",
      "PATHANAMTHITTA    88.737460\n",
      "KOTTAYAM          88.617514\n",
      "MAHE              87.215420\n",
      "ALAPPUZHA         87.076162\n",
      "ERNAKULAM         86.999952\n",
      "                    ...    \n",
      "JHABUA            34.347757\n",
      "BIJAPUR           34.055166\n",
      "LONGDING          32.470634\n",
      "SUKMA             30.016468\n",
      "ALIRAJPUR         28.772879\n",
      "Length: 732, dtype: float64\n"
     ]
    }
   ],
   "source": [
    "popu=pop_data.groupby('District')['Population'].sum().copy()\n",
    "lit_popu=pop_data.groupby('District')['Literate population '].sum()\n",
    "final_data=(lit_popu/popu)*100\n",
    "print(final_data.sort_values(ascending=False))"
   ]
  }
 ],
 "metadata": {
  "kernelspec": {
   "display_name": "Python 3",
   "language": "python",
   "name": "python3"
  },
  "language_info": {
   "codemirror_mode": {
    "name": "ipython",
    "version": 3
   },
   "file_extension": ".py",
   "mimetype": "text/x-python",
   "name": "python",
   "nbconvert_exporter": "python",
   "pygments_lexer": "ipython3",
   "version": "3.11.2"
  },
  "orig_nbformat": 4
 },
 "nbformat": 4,
 "nbformat_minor": 2
}
